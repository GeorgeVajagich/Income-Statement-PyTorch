{
 "cells": [
  {
   "cell_type": "code",
   "execution_count": 1,
   "id": "26f70fb1-1cea-4a8a-8ab9-cee1ac6408a4",
   "metadata": {},
   "outputs": [],
   "source": [
    "import pandas as pd\n",
    "import requests"
   ]
  },
  {
   "cell_type": "code",
   "execution_count": 2,
   "id": "178aebfa-c5d4-4682-8b79-b947b6882115",
   "metadata": {},
   "outputs": [],
   "source": [
    "# getting key\n",
    "key=pd.read_csv(\"financeKey.txt\",header=None)[0][0]"
   ]
  },
  {
   "cell_type": "code",
   "execution_count": 3,
   "id": "5235a94b-47ee-4996-ab23-91d0fadf32c1",
   "metadata": {},
   "outputs": [],
   "source": [
    "ticker=\"META\""
   ]
  },
  {
   "cell_type": "code",
   "execution_count": 4,
   "id": "971fee92-92ab-4423-8144-06261980b781",
   "metadata": {},
   "outputs": [],
   "source": [
    "URL=(\"https://financialmodelingprep.com/api/v3/income-statement/\"+ticker+\"?apikey=\"+key)"
   ]
  },
  {
   "cell_type": "code",
   "execution_count": 5,
   "id": "7592eb70-a242-4ff0-9164-94a10fd5fc9e",
   "metadata": {},
   "outputs": [],
   "source": [
    "data = requests.get(URL).json()"
   ]
  },
  {
   "cell_type": "code",
   "execution_count": 6,
   "id": "75fbd875-2bff-4fde-806b-fc379226cc90",
   "metadata": {},
   "outputs": [
    {
     "name": "stdout",
     "output_type": "stream",
     "text": [
      "[{'date': '2023-12-31', 'symbol': 'META', 'reportedCurrency': 'USD', 'cik': '0001326801', 'fillingDate': '2024-02-02', 'acceptedDate': '2024-02-01 19:39:02', 'calendarYear': '2023', 'period': 'FY', 'revenue': 134902000000, 'costOfRevenue': 25959000000, 'grossProfit': 108943000000, 'grossProfitRatio': 0.8075714222, 'researchAndDevelopmentExpenses': 38483000000, 'generalAndAdministrativeExpenses': 11408000000, 'sellingAndMarketingExpenses': 12301000000, 'sellingGeneralAndAdministrativeExpenses': 23709000000, 'otherExpenses': 1458000000, 'operatingExpenses': 62192000000, 'costAndExpenses': 88151000000, 'interestIncome': 1639000000, 'interestExpense': 446000000, 'depreciationAndAmortization': 11178000000, 'ebitda': 61381000000, 'ebitdaratio': 0.4550043735, 'operatingIncome': 50203000000, 'operatingIncomeRatio': 0.3721442232, 'totalOtherIncomeExpensesNet': -2775000000, 'incomeBeforeTax': 47428000000, 'incomeBeforeTaxRatio': 0.351573735, 'incomeTaxExpense': 8330000000, 'netIncome': 39098000000, 'netIncomeRatio': 0.2898252064, 'eps': 15.19, 'epsdiluted': 14.87, 'weightedAverageShsOut': 2574000000, 'weightedAverageShsOutDil': 2629000000, 'link': 'https://www.sec.gov/Archives/edgar/data/1326801/000132680124000012/0001326801-24-000012-index.htm', 'finalLink': 'https://www.sec.gov/Archives/edgar/data/1326801/000132680124000012/meta-20231231.htm'}, {'date': '2022-12-31', 'symbol': 'META', 'reportedCurrency': 'USD', 'cik': '0001326801', 'fillingDate': '2023-02-02', 'acceptedDate': '2023-02-01 20:26:31', 'calendarYear': '2022', 'period': 'FY', 'revenue': 116609000000, 'costOfRevenue': 25249000000, 'grossProfit': 91360000000, 'grossProfitRatio': 0.7834729738, 'researchAndDevelopmentExpenses': 35338000000, 'generalAndAdministrativeExpenses': 11816000000, 'sellingAndMarketingExpenses': 15262000000, 'sellingGeneralAndAdministrativeExpenses': 27078000000, 'otherExpenses': -320000000, 'operatingExpenses': 62416000000, 'costAndExpenses': 87665000000, 'interestIncome': 276000000, 'interestExpense': 276000000, 'depreciationAndAmortization': 8686000000, 'ebitda': 42241000000, 'ebitdaratio': 0.3622447667, 'operatingIncome': 33555000000, 'operatingIncomeRatio': 0.2877565197, 'totalOtherIncomeExpensesNet': -4736000000, 'incomeBeforeTax': 28819000000, 'incomeBeforeTaxRatio': 0.2471421588, 'incomeTaxExpense': 5619000000, 'netIncome': 23200000000, 'netIncomeRatio': 0.1989554837, 'eps': 8.63, 'epsdiluted': 8.59, 'weightedAverageShsOut': 2687000000, 'weightedAverageShsOutDil': 2702000000, 'link': 'https://www.sec.gov/Archives/edgar/data/1326801/000132680123000013/0001326801-23-000013-index.htm', 'finalLink': 'https://www.sec.gov/Archives/edgar/data/1326801/000132680123000013/meta-20221231.htm'}, {'date': '2021-12-31', 'symbol': 'META', 'reportedCurrency': 'USD', 'cik': '0001326801', 'fillingDate': '2022-02-03', 'acceptedDate': '2022-02-02 21:11:04', 'calendarYear': '2021', 'period': 'FY', 'revenue': 117929000000, 'costOfRevenue': 22649000000, 'grossProfit': 95280000000, 'grossProfitRatio': 0.8079437628, 'researchAndDevelopmentExpenses': 24655000000, 'generalAndAdministrativeExpenses': 9829000000, 'sellingAndMarketingExpenses': 14043000000, 'sellingGeneralAndAdministrativeExpenses': 23872000000, 'otherExpenses': 210000000, 'operatingExpenses': 48527000000, 'costAndExpenses': 71176000000, 'interestIncome': 531000000, 'interestExpense': 461000000, 'depreciationAndAmortization': 7967000000, 'ebitda': 54720000000, 'ebitdaratio': 0.4640080048, 'operatingIncome': 46753000000, 'operatingIncomeRatio': 0.3964504066, 'totalOtherIncomeExpensesNet': 531000000, 'incomeBeforeTax': 47284000000, 'incomeBeforeTaxRatio': 0.4009531159, 'incomeTaxExpense': 7914000000, 'netIncome': 39370000000, 'netIncomeRatio': 0.3338449406, 'eps': 13.99, 'epsdiluted': 13.77, 'weightedAverageShsOut': 2815000000, 'weightedAverageShsOutDil': 2859000000, 'link': 'https://www.sec.gov/Archives/edgar/data/1326801/000132680122000018/0001326801-22-000018-index.htm', 'finalLink': 'https://www.sec.gov/Archives/edgar/data/1326801/000132680122000018/fb-20211231.htm'}, {'date': '2020-12-31', 'symbol': 'META', 'reportedCurrency': 'USD', 'cik': '0001326801', 'fillingDate': '2021-01-28', 'acceptedDate': '2021-01-27 21:13:48', 'calendarYear': '2020', 'period': 'FY', 'revenue': 85965000000, 'costOfRevenue': 16692000000, 'grossProfit': 69273000000, 'grossProfitRatio': 0.8058279532, 'researchAndDevelopmentExpenses': 18447000000, 'generalAndAdministrativeExpenses': 6564000000, 'sellingAndMarketingExpenses': 11591000000, 'sellingGeneralAndAdministrativeExpenses': 18155000000, 'otherExpenses': -34000000, 'operatingExpenses': 36602000000, 'costAndExpenses': 53294000000, 'interestIncome': 509000000, 'interestExpense': 672000000, 'depreciationAndAmortization': 6862000000, 'ebitda': 39533000000, 'ebitdaratio': 0.4598732042, 'operatingIncome': 32671000000, 'operatingIncomeRatio': 0.3800500204, 'totalOtherIncomeExpensesNet': 509000000, 'incomeBeforeTax': 33180000000, 'incomeBeforeTaxRatio': 0.3859710347, 'incomeTaxExpense': 4034000000, 'netIncome': 29146000000, 'netIncomeRatio': 0.3390449602, 'eps': 10.22, 'epsdiluted': 10.09, 'weightedAverageShsOut': 2851000000, 'weightedAverageShsOutDil': 2888000000, 'link': 'https://www.sec.gov/Archives/edgar/data/1326801/000132680121000014/0001326801-21-000014-index.htm', 'finalLink': 'https://www.sec.gov/Archives/edgar/data/1326801/000132680121000014/fb-20201231.htm'}, {'date': '2019-12-31', 'symbol': 'META', 'reportedCurrency': 'USD', 'cik': '0001326801', 'fillingDate': '2020-01-30', 'acceptedDate': '2020-01-29 21:12:14', 'calendarYear': '2019', 'period': 'FY', 'revenue': 70697000000, 'costOfRevenue': 12770000000, 'grossProfit': 57927000000, 'grossProfitRatio': 0.8193699874, 'researchAndDevelopmentExpenses': 13600000000, 'generalAndAdministrativeExpenses': 10465000000, 'sellingAndMarketingExpenses': 9876000000, 'sellingGeneralAndAdministrativeExpenses': 20341000000, 'otherExpenses': 27000000, 'operatingExpenses': 33941000000, 'costAndExpenses': 46711000000, 'interestIncome': 924000000, 'interestExpense': 20000000, 'depreciationAndAmortization': 5741000000, 'ebitda': 34727000000, 'ebitdaratio': 0.4912089622, 'operatingIncome': 28986000000, 'operatingIncomeRatio': 0.4100032533, 'totalOtherIncomeExpensesNet': -4174000000, 'incomeBeforeTax': 24812000000, 'incomeBeforeTaxRatio': 0.3509625585, 'incomeTaxExpense': 6327000000, 'netIncome': 18485000000, 'netIncomeRatio': 0.2614679548, 'eps': 6.48, 'epsdiluted': 6.43, 'weightedAverageShsOut': 2854000000, 'weightedAverageShsOutDil': 2876000000, 'link': 'https://www.sec.gov/Archives/edgar/data/1326801/000132680120000013/0001326801-20-000013-index.htm', 'finalLink': 'https://www.sec.gov/Archives/edgar/data/1326801/000132680120000013/fb-12312019x10k.htm'}]\n"
     ]
    }
   ],
   "source": [
    "print(data)"
   ]
  },
  {
   "cell_type": "code",
   "execution_count": null,
   "id": "b234e5e3-56eb-42a6-add9-a36617d0fe7d",
   "metadata": {},
   "outputs": [],
   "source": []
  }
 ],
 "metadata": {
  "kernelspec": {
   "display_name": "Python 3 (ipykernel)",
   "language": "python",
   "name": "python3"
  },
  "language_info": {
   "codemirror_mode": {
    "name": "ipython",
    "version": 3
   },
   "file_extension": ".py",
   "mimetype": "text/x-python",
   "name": "python",
   "nbconvert_exporter": "python",
   "pygments_lexer": "ipython3",
   "version": "3.12.2"
  }
 },
 "nbformat": 4,
 "nbformat_minor": 5
}
