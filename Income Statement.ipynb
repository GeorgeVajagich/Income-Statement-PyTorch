{
 "cells": [
  {
   "cell_type": "code",
   "execution_count": 14,
   "id": "26f70fb1-1cea-4a8a-8ab9-cee1ac6408a4",
   "metadata": {},
   "outputs": [],
   "source": [
    "import pandas as pd\n",
    "import numpy as np\n",
    "import requests\n",
    "import matplotlib.pyplot as plt"
   ]
  },
  {
   "cell_type": "code",
   "execution_count": 2,
   "id": "178aebfa-c5d4-4682-8b79-b947b6882115",
   "metadata": {},
   "outputs": [],
   "source": [
    "# getting key\n",
    "key=pd.read_csv(\"financeKey.txt\",header=None)[0][0]"
   ]
  },
  {
   "cell_type": "code",
   "execution_count": 3,
   "id": "5235a94b-47ee-4996-ab23-91d0fadf32c1",
   "metadata": {},
   "outputs": [],
   "source": [
    "# extracting data from the internet as a json file\n",
    "ticker=\"AAPL\"\n",
    "URL=(\"https://financialmodelingprep.com/api/v3/income-statement/\"+ticker+\"?apikey=\"+key)\n",
    "data = requests.get(URL).json()"
   ]
  },
  {
   "cell_type": "code",
   "execution_count": 4,
   "id": "42fcdefc",
   "metadata": {},
   "outputs": [],
   "source": [
    "#  function that extracts data from the internet as a json file then turns the json file into pandas dataframe\n",
    "\n",
    "def createdf(ticker):\n",
    "    URL=(\"https://financialmodelingprep.com/api/v3/income-statement/\"+ticker+\"?apikey=\"+key)\n",
    "    data = requests.get(URL).json()\n",
    "    # turning json file into pandas dataframe\n",
    "    df=pd.DataFrame(data)\n",
    "    return(df)"
   ]
  },
  {
   "cell_type": "code",
   "execution_count": 5,
   "id": "48380512",
   "metadata": {},
   "outputs": [
    {
     "data": {
      "text/html": [
       "<div>\n",
       "<style scoped>\n",
       "    .dataframe tbody tr th:only-of-type {\n",
       "        vertical-align: middle;\n",
       "    }\n",
       "\n",
       "    .dataframe tbody tr th {\n",
       "        vertical-align: top;\n",
       "    }\n",
       "\n",
       "    .dataframe thead th {\n",
       "        text-align: right;\n",
       "    }\n",
       "</style>\n",
       "<table border=\"1\" class=\"dataframe\">\n",
       "  <thead>\n",
       "    <tr style=\"text-align: right;\">\n",
       "      <th></th>\n",
       "      <th>date</th>\n",
       "      <th>symbol</th>\n",
       "      <th>reportedCurrency</th>\n",
       "      <th>cik</th>\n",
       "      <th>fillingDate</th>\n",
       "      <th>acceptedDate</th>\n",
       "      <th>calendarYear</th>\n",
       "      <th>period</th>\n",
       "      <th>revenue</th>\n",
       "      <th>costOfRevenue</th>\n",
       "      <th>...</th>\n",
       "      <th>incomeBeforeTaxRatio</th>\n",
       "      <th>incomeTaxExpense</th>\n",
       "      <th>netIncome</th>\n",
       "      <th>netIncomeRatio</th>\n",
       "      <th>eps</th>\n",
       "      <th>epsdiluted</th>\n",
       "      <th>weightedAverageShsOut</th>\n",
       "      <th>weightedAverageShsOutDil</th>\n",
       "      <th>link</th>\n",
       "      <th>finalLink</th>\n",
       "    </tr>\n",
       "  </thead>\n",
       "  <tbody>\n",
       "    <tr>\n",
       "      <th>0</th>\n",
       "      <td>2024-12-31</td>\n",
       "      <td>META</td>\n",
       "      <td>USD</td>\n",
       "      <td>0001326801</td>\n",
       "      <td>2025-01-30</td>\n",
       "      <td>2025-01-29 20:00:50</td>\n",
       "      <td>2024</td>\n",
       "      <td>FY</td>\n",
       "      <td>164501000000</td>\n",
       "      <td>30161000000</td>\n",
       "      <td>...</td>\n",
       "      <td>0.429560</td>\n",
       "      <td>8303000000</td>\n",
       "      <td>62360000000</td>\n",
       "      <td>0.379086</td>\n",
       "      <td>24.61</td>\n",
       "      <td>23.86</td>\n",
       "      <td>2534000000</td>\n",
       "      <td>2614000000</td>\n",
       "      <td>https://www.sec.gov/Archives/edgar/data/132680...</td>\n",
       "      <td>https://www.sec.gov/Archives/edgar/data/132680...</td>\n",
       "    </tr>\n",
       "    <tr>\n",
       "      <th>1</th>\n",
       "      <td>2023-12-31</td>\n",
       "      <td>META</td>\n",
       "      <td>USD</td>\n",
       "      <td>0001326801</td>\n",
       "      <td>2024-02-02</td>\n",
       "      <td>2024-02-01 19:39:02</td>\n",
       "      <td>2023</td>\n",
       "      <td>FY</td>\n",
       "      <td>134902000000</td>\n",
       "      <td>25959000000</td>\n",
       "      <td>...</td>\n",
       "      <td>0.351574</td>\n",
       "      <td>8330000000</td>\n",
       "      <td>39098000000</td>\n",
       "      <td>0.289825</td>\n",
       "      <td>15.19</td>\n",
       "      <td>14.87</td>\n",
       "      <td>2574000000</td>\n",
       "      <td>2629000000</td>\n",
       "      <td>https://www.sec.gov/Archives/edgar/data/132680...</td>\n",
       "      <td>https://www.sec.gov/Archives/edgar/data/132680...</td>\n",
       "    </tr>\n",
       "    <tr>\n",
       "      <th>2</th>\n",
       "      <td>2022-12-31</td>\n",
       "      <td>META</td>\n",
       "      <td>USD</td>\n",
       "      <td>0001326801</td>\n",
       "      <td>2023-02-02</td>\n",
       "      <td>2023-02-01 20:26:31</td>\n",
       "      <td>2022</td>\n",
       "      <td>FY</td>\n",
       "      <td>116609000000</td>\n",
       "      <td>25249000000</td>\n",
       "      <td>...</td>\n",
       "      <td>0.247142</td>\n",
       "      <td>5619000000</td>\n",
       "      <td>23200000000</td>\n",
       "      <td>0.198955</td>\n",
       "      <td>8.63</td>\n",
       "      <td>8.59</td>\n",
       "      <td>2687000000</td>\n",
       "      <td>2702000000</td>\n",
       "      <td>https://www.sec.gov/Archives/edgar/data/132680...</td>\n",
       "      <td>https://www.sec.gov/Archives/edgar/data/132680...</td>\n",
       "    </tr>\n",
       "    <tr>\n",
       "      <th>3</th>\n",
       "      <td>2021-12-31</td>\n",
       "      <td>META</td>\n",
       "      <td>USD</td>\n",
       "      <td>0001326801</td>\n",
       "      <td>2022-02-03</td>\n",
       "      <td>2022-02-02 21:11:04</td>\n",
       "      <td>2021</td>\n",
       "      <td>FY</td>\n",
       "      <td>117929000000</td>\n",
       "      <td>22649000000</td>\n",
       "      <td>...</td>\n",
       "      <td>0.400953</td>\n",
       "      <td>7914000000</td>\n",
       "      <td>39370000000</td>\n",
       "      <td>0.333845</td>\n",
       "      <td>13.99</td>\n",
       "      <td>13.77</td>\n",
       "      <td>2815000000</td>\n",
       "      <td>2859000000</td>\n",
       "      <td>https://www.sec.gov/Archives/edgar/data/132680...</td>\n",
       "      <td>https://www.sec.gov/Archives/edgar/data/132680...</td>\n",
       "    </tr>\n",
       "    <tr>\n",
       "      <th>4</th>\n",
       "      <td>2020-12-31</td>\n",
       "      <td>META</td>\n",
       "      <td>USD</td>\n",
       "      <td>0001326801</td>\n",
       "      <td>2021-01-28</td>\n",
       "      <td>2021-01-27 21:13:48</td>\n",
       "      <td>2020</td>\n",
       "      <td>FY</td>\n",
       "      <td>85965000000</td>\n",
       "      <td>16692000000</td>\n",
       "      <td>...</td>\n",
       "      <td>0.385971</td>\n",
       "      <td>4034000000</td>\n",
       "      <td>29146000000</td>\n",
       "      <td>0.339045</td>\n",
       "      <td>10.22</td>\n",
       "      <td>10.09</td>\n",
       "      <td>2851000000</td>\n",
       "      <td>2888000000</td>\n",
       "      <td>https://www.sec.gov/Archives/edgar/data/132680...</td>\n",
       "      <td>https://www.sec.gov/Archives/edgar/data/132680...</td>\n",
       "    </tr>\n",
       "  </tbody>\n",
       "</table>\n",
       "<p>5 rows × 38 columns</p>\n",
       "</div>"
      ],
      "text/plain": [
       "         date symbol reportedCurrency         cik fillingDate  \\\n",
       "0  2024-12-31   META              USD  0001326801  2025-01-30   \n",
       "1  2023-12-31   META              USD  0001326801  2024-02-02   \n",
       "2  2022-12-31   META              USD  0001326801  2023-02-02   \n",
       "3  2021-12-31   META              USD  0001326801  2022-02-03   \n",
       "4  2020-12-31   META              USD  0001326801  2021-01-28   \n",
       "\n",
       "          acceptedDate calendarYear period       revenue  costOfRevenue  ...  \\\n",
       "0  2025-01-29 20:00:50         2024     FY  164501000000    30161000000  ...   \n",
       "1  2024-02-01 19:39:02         2023     FY  134902000000    25959000000  ...   \n",
       "2  2023-02-01 20:26:31         2022     FY  116609000000    25249000000  ...   \n",
       "3  2022-02-02 21:11:04         2021     FY  117929000000    22649000000  ...   \n",
       "4  2021-01-27 21:13:48         2020     FY   85965000000    16692000000  ...   \n",
       "\n",
       "   incomeBeforeTaxRatio  incomeTaxExpense    netIncome  netIncomeRatio    eps  \\\n",
       "0              0.429560        8303000000  62360000000        0.379086  24.61   \n",
       "1              0.351574        8330000000  39098000000        0.289825  15.19   \n",
       "2              0.247142        5619000000  23200000000        0.198955   8.63   \n",
       "3              0.400953        7914000000  39370000000        0.333845  13.99   \n",
       "4              0.385971        4034000000  29146000000        0.339045  10.22   \n",
       "\n",
       "   epsdiluted  weightedAverageShsOut  weightedAverageShsOutDil  \\\n",
       "0       23.86             2534000000                2614000000   \n",
       "1       14.87             2574000000                2629000000   \n",
       "2        8.59             2687000000                2702000000   \n",
       "3       13.77             2815000000                2859000000   \n",
       "4       10.09             2851000000                2888000000   \n",
       "\n",
       "                                                link  \\\n",
       "0  https://www.sec.gov/Archives/edgar/data/132680...   \n",
       "1  https://www.sec.gov/Archives/edgar/data/132680...   \n",
       "2  https://www.sec.gov/Archives/edgar/data/132680...   \n",
       "3  https://www.sec.gov/Archives/edgar/data/132680...   \n",
       "4  https://www.sec.gov/Archives/edgar/data/132680...   \n",
       "\n",
       "                                           finalLink  \n",
       "0  https://www.sec.gov/Archives/edgar/data/132680...  \n",
       "1  https://www.sec.gov/Archives/edgar/data/132680...  \n",
       "2  https://www.sec.gov/Archives/edgar/data/132680...  \n",
       "3  https://www.sec.gov/Archives/edgar/data/132680...  \n",
       "4  https://www.sec.gov/Archives/edgar/data/132680...  \n",
       "\n",
       "[5 rows x 38 columns]"
      ]
     },
     "execution_count": 5,
     "metadata": {},
     "output_type": "execute_result"
    }
   ],
   "source": [
    "# creating pandas dataframe of Meta's Income statments over the past 5 years\n",
    "\n",
    "META=createdf(\"META\")\n",
    "META"
   ]
  },
  {
   "cell_type": "code",
   "execution_count": 6,
   "id": "fd589110",
   "metadata": {},
   "outputs": [],
   "source": [
    "# creating function to prints revenue over the past 4 years and revenue growth over the past 1 year for a given stock\n",
    "def revenue(ticker):\n",
    "    stock=createdf(ticker)\n",
    "    print(ticker)\n",
    "    print(stock[\"revenue\"])\n",
    "    print(stock[\"revenue\"][0]/stock[\"revenue\"][1])"
   ]
  },
  {
   "cell_type": "code",
   "execution_count": 7,
   "id": "988df5cb",
   "metadata": {},
   "outputs": [
    {
     "name": "stdout",
     "output_type": "stream",
     "text": [
      "AAPL\n",
      "0    391035000000\n",
      "1    383285000000\n",
      "2    394328000000\n",
      "3    365817000000\n",
      "4    274515000000\n",
      "Name: revenue, dtype: int64\n",
      "1.020219940775141\n"
     ]
    }
   ],
   "source": [
    "revenue(\"AAPL\")"
   ]
  },
  {
   "cell_type": "code",
   "execution_count": 8,
   "id": "99ba6cbc",
   "metadata": {},
   "outputs": [],
   "source": [
    "# function to show last 4 years of revenue growth\n",
    "def past4growth(ticker):\n",
    "    stock=createdf(ticker)\n",
    "    print(ticker)\n",
    "    print(stock[\"revenue\"][0]/stock[\"revenue\"][1])\n",
    "    print(stock[\"revenue\"][1]/stock[\"revenue\"][2])\n",
    "    print(stock[\"revenue\"][2]/stock[\"revenue\"][3])\n",
    "    print(stock[\"revenue\"][3]/stock[\"revenue\"][4])"
   ]
  },
  {
   "cell_type": "code",
   "execution_count": 9,
   "id": "348d7ab7",
   "metadata": {},
   "outputs": [
    {
     "name": "stdout",
     "output_type": "stream",
     "text": [
      "AAPL\n",
      "1.020219940775141\n",
      "0.9719953946968006\n",
      "1.077937876041846\n",
      "1.332593847330747\n"
     ]
    }
   ],
   "source": [
    "past4growth(\"AAPL\")"
   ]
  },
  {
   "cell_type": "code",
   "execution_count": 10,
   "id": "4b2fbe58",
   "metadata": {},
   "outputs": [],
   "source": [
    "# function to show median revenue growth\n",
    "def mediangrowth(ticker):\n",
    "    stock=createdf(ticker)\n",
    "    print(ticker)\n",
    "    g1=(stock[\"revenue\"][0]/stock[\"revenue\"][1])\n",
    "    g2=(stock[\"revenue\"][1]/stock[\"revenue\"][2])\n",
    "    g3=(stock[\"revenue\"][2]/stock[\"revenue\"][3])\n",
    "    g4=(stock[\"revenue\"][3]/stock[\"revenue\"][4])\n",
    "    data = np.array([g1,g2,g3,g4])\n",
    "    print(np.median(data))\n",
    "    return(np.median(data))"
   ]
  },
  {
   "cell_type": "code",
   "execution_count": 11,
   "id": "c903d5cf",
   "metadata": {},
   "outputs": [
    {
     "name": "stdout",
     "output_type": "stream",
     "text": [
      "AAPL\n",
      "1.0490789084084935\n",
      "NVDA\n",
      "1.8780335299340907\n",
      "MSFT\n",
      "1.1660084472712438\n",
      "AMZN\n",
      "1.1141023318827492\n",
      "GOOG\n",
      "1.1182352948330867\n"
     ]
    },
    {
     "data": {
      "text/plain": [
       "1.1182352948330867"
      ]
     },
     "execution_count": 11,
     "metadata": {},
     "output_type": "execute_result"
    }
   ],
   "source": [
    "mediangrowth(\"AAPL\")\n",
    "mediangrowth(\"NVDA\")\n",
    "mediangrowth(\"MSFT\")\n",
    "mediangrowth(\"AMZN\")\n",
    "mediangrowth(\"GOOG\")"
   ]
  },
  {
   "cell_type": "code",
   "execution_count": 18,
   "id": "23d679d4",
   "metadata": {},
   "outputs": [],
   "source": [
    "# creating function to project next 5 years of revenue\n",
    "def futurerevenue(ticker):\n",
    "    stock=createdf(ticker)\n",
    "    rate=mediangrowth(ticker)\n",
    "    print(ticker)\n",
    "    start=int(stock[\"revenue\"][0])\n",
    "    return[start*rate,start*rate**2,start*rate**3,start*rate**4,start*rate**5]"
   ]
  },
  {
   "cell_type": "code",
   "execution_count": 19,
   "id": "a9a4f403",
   "metadata": {},
   "outputs": [
    {
     "name": "stdout",
     "output_type": "stream",
     "text": [
      "AMZN\n",
      "1.1141023318827492\n",
      "AMZN\n"
     ]
    },
    {
     "data": {
      "text/plain": [
       "[710751609545.5868,\n",
       " 791850025584.1556,\n",
       " 882201960004.7223,\n",
       " 982863260832.793,\n",
       " 1095010250815.6974]"
      ]
     },
     "execution_count": 19,
     "metadata": {},
     "output_type": "execute_result"
    }
   ],
   "source": [
    "futurerevenue(\"AMZN\")"
   ]
  },
  {
   "cell_type": "code",
   "execution_count": 27,
   "id": "a865ad92",
   "metadata": {},
   "outputs": [
    {
     "name": "stdout",
     "output_type": "stream",
     "text": [
      "AAPL\n",
      "1.0490789084084935\n",
      "AAPL\n",
      "NVDA\n",
      "1.8780335299340907\n",
      "NVDA\n"
     ]
    },
    {
     "data": {
      "text/plain": [
       "<matplotlib.legend.Legend at 0x284b551deb0>"
      ]
     },
     "execution_count": 27,
     "metadata": {},
     "output_type": "execute_result"
    },
    {
     "data": {
      "image/png": "[encoded data removed]",
      "text/plain": [
       "<Figure size 640x480 with 1 Axes>"
      ]
     },
     "metadata": {},
     "output_type": "display_data"
    }
   ],
   "source": [
    "plt.plot([2025,2026,2027,2028,2029],futurerevenue(\"AAPL\"))\n",
    "plt.plot([2025,2026,2027,2028,2029],futurerevenue(\"NVDA\"))\n",
    "plt.legend([\"AAPL\",\"NVDA\"])"
   ]
  }
 ],
 "metadata": {
  "kernelspec": {
   "display_name": "Python 3",
   "language": "python",
   "name": "python3"
  },
  "language_info": {
   "codemirror_mode": {
    "name": "ipython",
    "version": 3
   },
   "file_extension": ".py",
   "mimetype": "text/x-python",
   "name": "python",
   "nbconvert_exporter": "python",
   "pygments_lexer": "ipython3",
   "version": "3.12.2"
  }
 },
 "nbformat": 4,
 "nbformat_minor": 5
}
